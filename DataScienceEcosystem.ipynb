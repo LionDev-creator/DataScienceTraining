{
 "cells": [
  {
   "cell_type": "markdown",
   "id": "b64585fe-8c08-4361-9859-450c0aff367f",
   "metadata": {},
   "source": [
    "# Data Science Tools and Ecosystem"
   ]
  },
  {
   "attachments": {},
   "cell_type": "markdown",
   "id": "e67d24b7-5c62-4bf6-a340-f9d14a3eb904",
   "metadata": {},
   "source": [
    "In this notebook, Data science Tools and Ecosystem are summarized"
   ]
  },
  {
   "cell_type": "markdown",
   "id": "019797d2-1815-42c1-b76f-376a50764588",
   "metadata": {},
   "source": [
    "Some of the popular languages that Data Scientists use are:\n",
    "<ol>\n",
    "<li>Python</li>\n",
    "<li>R</li>\n",
    "<li>SQL</li>\n",
    "</ol>"
   ]
  },
  {
   "attachments": {},
   "cell_type": "markdown",
   "id": "026a5c4f-d07a-4d65-b98f-2c89801216a4",
   "metadata": {},
   "source": [
    "Some of the commonly used libraries used by Data Scientists include:\n",
    "<ol>\n",
    "<li>Pandas</li>\n",
    "<li>TensorFlow</li>\n",
    "<li>SciPy</li>\n",
    "</ol>"
   ]
  },
  {
   "cell_type": "markdown",
   "id": "3d2cc70a-24ec-4eb6-af27-d0792bbd75c4",
   "metadata": {},
   "source": [
    "| Data Science Tools     | \n",
    "| ---------------------- | \n",
    "| Jupyter Notebooks      | \n",
    "| Pytorch                | \n",
    "| MLFlow                 |"
   ]
  },
  {
   "cell_type": "markdown",
   "id": "d6b2b49c-2238-46d1-a1fe-86bd9b096aaa",
   "metadata": {},
   "source": [
    "### Below are a few examples of evaluating arithmetic expressions in Python"
   ]
  },
  {
   "cell_type": "code",
   "execution_count": 4,
   "id": "a4d3281b-aa64-48a5-befd-7233fc3bc451",
   "metadata": {},
   "outputs": [
    {
     "name": "stdout",
     "output_type": "stream",
     "text": [
      "This a simple arithmetic expression to multiply then add integers\n",
      "17\n"
     ]
    }
   ],
   "source": [
    "print (\"This a simple arithmetic expression to multiply then add integers\")\n",
    "result = (3 * 4) + 5\n",
    "print(result) "
   ]
  },
  {
   "cell_type": "code",
   "execution_count": 5,
   "id": "0865d904-1df3-4d11-901e-11f6793cc4e4",
   "metadata": {},
   "outputs": [
    {
     "name": "stdout",
     "output_type": "stream",
     "text": [
      "This will convert 200 minutes to hours by diving by 60\n",
      "Hours= 3\n"
     ]
    }
   ],
   "source": [
    "print (\"This will convert 200 minutes to hours by diving by 60\")\n",
    "m=200\n",
    "h=m//60\n",
    "print(\"Hours=\",h)"
   ]
  },
  {
   "cell_type": "markdown",
   "id": "2f29a86b-22e1-40d0-b862-dd5584cca398",
   "metadata": {},
   "source": [
    "__Objectives__\n",
    "<ul>\n",
    "<li>List of popular languages for Data Sciences</li>\n",
    "<li>Commonly used libraries used by Data Scientists </li>\n",
    "<li>Data Science Tools</li>\n",
    "</ul>"
   ]
  },
  {
   "cell_type": "markdown",
   "id": "2de3b0b9-21ee-451b-8d51-3351756a601c",
   "metadata": {},
   "source": [
    "## Author\n",
    "Lionel\n",
    "Cambos"
   ]
  },
  {
   "cell_type": "code",
   "execution_count": null,
   "id": "3bccdd6a-f0a4-40d0-91ac-27fc6e10d46d",
   "metadata": {},
   "outputs": [],
   "source": []
  }
 ],
 "metadata": {
  "kernelspec": {
   "display_name": "Python 3 (ipykernel)",
   "language": "python",
   "name": "python3"
  },
  "language_info": {
   "codemirror_mode": {
    "name": "ipython",
    "version": 3
   },
   "file_extension": ".py",
   "mimetype": "text/x-python",
   "name": "python",
   "nbconvert_exporter": "python",
   "pygments_lexer": "ipython3",
   "version": "3.12.4"
  }
 },
 "nbformat": 4,
 "nbformat_minor": 5
}
